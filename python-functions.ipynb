{
 "cells": [
  {
   "cell_type": "code",
   "execution_count": 1,
   "id": "b93be5f8",
   "metadata": {
    "_cell_guid": "b1076dfc-b9ad-4769-8c92-a6c4dae69d19",
    "_uuid": "8f2839f25d086af736a60e9eeb907d3b93b6e0e5",
    "execution": {
     "iopub.execute_input": "2024-10-14T17:33:00.873221Z",
     "iopub.status.busy": "2024-10-14T17:33:00.872821Z",
     "iopub.status.idle": "2024-10-14T17:33:00.877849Z",
     "shell.execute_reply": "2024-10-14T17:33:00.876958Z"
    },
    "papermill": {
     "duration": 0.017621,
     "end_time": "2024-10-14T17:33:00.879864",
     "exception": false,
     "start_time": "2024-10-14T17:33:00.862243",
     "status": "completed"
    },
    "tags": []
   },
   "outputs": [],
   "source": [
    "# Three Types of Functions:\n",
    "# 1. Built-in function: Python predefined functions that are readily available for use like min() , max() , sum() , print() etc. \n",
    "# 2. User-Defined Functions: Function that we define ourselves to perform a specific task. \n",
    "# 3. Anonymous functions: Function that is defined without a name. \n",
    "#    Anonymous functions are also called as lambda functions. They are not declared with the def k"
   ]
  },
  {
   "cell_type": "code",
   "execution_count": 2,
   "id": "58ba68a8",
   "metadata": {
    "execution": {
     "iopub.execute_input": "2024-10-14T17:33:00.898679Z",
     "iopub.status.busy": "2024-10-14T17:33:00.898129Z",
     "iopub.status.idle": "2024-10-14T17:33:00.909019Z",
     "shell.execute_reply": "2024-10-14T17:33:00.907893Z"
    },
    "papermill": {
     "duration": 0.022941,
     "end_time": "2024-10-14T17:33:00.911595",
     "exception": false,
     "start_time": "2024-10-14T17:33:00.888654",
     "status": "completed"
    },
    "tags": []
   },
   "outputs": [
    {
     "name": "stdout",
     "output_type": "stream",
     "text": [
      "Before function Call\n",
      "Hello Students!\n",
      "After function Call\n"
     ]
    }
   ],
   "source": [
    "# Function Definition\n",
    "def any_user_defined_function():\n",
    "    print(\"Hello Students!\")\n",
    "\n",
    "print(\"Before function Call\")\n",
    "# Function Call\n",
    "any_user_defined_function()\n",
    "print(\"After function Call\")"
   ]
  },
  {
   "cell_type": "code",
   "execution_count": 3,
   "id": "8c0a16be",
   "metadata": {
    "execution": {
     "iopub.execute_input": "2024-10-14T17:33:00.930744Z",
     "iopub.status.busy": "2024-10-14T17:33:00.930408Z",
     "iopub.status.idle": "2024-10-14T17:33:00.935241Z",
     "shell.execute_reply": "2024-10-14T17:33:00.934364Z"
    },
    "papermill": {
     "duration": 0.016818,
     "end_time": "2024-10-14T17:33:00.937317",
     "exception": false,
     "start_time": "2024-10-14T17:33:00.920499",
     "status": "completed"
    },
    "tags": []
   },
   "outputs": [],
   "source": [
    "def details(name, userid, country): # Function to print User details    \n",
    "    print(f\"Full Name: {name}\")\n",
    "    print(f\"User ID: {userid}\")\n",
    "    print(f\"Country of Resid: {country}\")\n",
    "\n",
    "# result is None because the function is not returning anything\n",
    "#res = details('Aman' ,'India')\n",
    "#print(res)"
   ]
  },
  {
   "cell_type": "code",
   "execution_count": 4,
   "id": "5378cd80",
   "metadata": {
    "execution": {
     "iopub.execute_input": "2024-10-14T17:33:00.955958Z",
     "iopub.status.busy": "2024-10-14T17:33:00.955616Z",
     "iopub.status.idle": "2024-10-14T17:33:00.960717Z",
     "shell.execute_reply": "2024-10-14T17:33:00.959824Z"
    },
    "papermill": {
     "duration": 0.016835,
     "end_time": "2024-10-14T17:33:00.962811",
     "exception": false,
     "start_time": "2024-10-14T17:33:00.945976",
     "status": "completed"
    },
    "tags": []
   },
   "outputs": [
    {
     "name": "stdout",
     "output_type": "stream",
     "text": [
      "100\n"
     ]
    }
   ],
   "source": [
    "def square(n): #function to find square of a number    \n",
    "    n = n*n\n",
    "    return n\n",
    "\n",
    "res = square(10)\n",
    "print(res)"
   ]
  },
  {
   "cell_type": "code",
   "execution_count": 5,
   "id": "d19344a7",
   "metadata": {
    "execution": {
     "iopub.execute_input": "2024-10-14T17:33:00.981621Z",
     "iopub.status.busy": "2024-10-14T17:33:00.981334Z",
     "iopub.status.idle": "2024-10-14T17:33:00.986457Z",
     "shell.execute_reply": "2024-10-14T17:33:00.985476Z"
    },
    "papermill": {
     "duration": 0.017079,
     "end_time": "2024-10-14T17:33:00.988841",
     "exception": false,
     "start_time": "2024-10-14T17:33:00.971762",
     "status": "completed"
    },
    "tags": []
   },
   "outputs": [
    {
     "name": "stdout",
     "output_type": "stream",
     "text": [
      "Name: Aman\n",
      "Country: India\n",
      "Name: Aman\n",
      "Country: US\n"
     ]
    }
   ],
   "source": [
    "def details(name, country='India'): # Function to print User details    \n",
    "    print(f\"Name: {name}\")\n",
    "    print(f\"Country: {country}\")\n",
    "\n",
    "details('Aman')\n",
    "details('Aman', 'US')"
   ]
  },
  {
   "cell_type": "code",
   "execution_count": 6,
   "id": "64056a4b",
   "metadata": {
    "execution": {
     "iopub.execute_input": "2024-10-14T17:33:01.008252Z",
     "iopub.status.busy": "2024-10-14T17:33:01.007592Z",
     "iopub.status.idle": "2024-10-14T17:33:01.012374Z",
     "shell.execute_reply": "2024-10-14T17:33:01.011375Z"
    },
    "papermill": {
     "duration": 0.016604,
     "end_time": "2024-10-14T17:33:01.014655",
     "exception": false,
     "start_time": "2024-10-14T17:33:00.998051",
     "status": "completed"
    },
    "tags": []
   },
   "outputs": [
    {
     "name": "stdout",
     "output_type": "stream",
     "text": [
      "16\n"
     ]
    }
   ],
   "source": [
    "def square(number):\n",
    "    return number ** 2\n",
    "\n",
    "squared_value = square(4)\n",
    "print(squared_value)"
   ]
  },
  {
   "cell_type": "code",
   "execution_count": 7,
   "id": "1f082e41",
   "metadata": {
    "execution": {
     "iopub.execute_input": "2024-10-14T17:33:01.033950Z",
     "iopub.status.busy": "2024-10-14T17:33:01.033128Z",
     "iopub.status.idle": "2024-10-14T17:33:01.038545Z",
     "shell.execute_reply": "2024-10-14T17:33:01.037487Z"
    },
    "papermill": {
     "duration": 0.017523,
     "end_time": "2024-10-14T17:33:01.040934",
     "exception": false,
     "start_time": "2024-10-14T17:33:01.023411",
     "status": "completed"
    },
    "tags": []
   },
   "outputs": [
    {
     "name": "stdout",
     "output_type": "stream",
     "text": [
      "100\n",
      "100\n"
     ]
    }
   ],
   "source": [
    "# Variable with Global scope. \n",
    "var1 = 100\n",
    "\n",
    "def any_user_defined_function():\n",
    "    print(var1) # Value 100 will be displayed due to global scope of var1\n",
    "\n",
    "any_user_defined_function()\n",
    "print(var1)"
   ]
  },
  {
   "cell_type": "code",
   "execution_count": 8,
   "id": "764948a5",
   "metadata": {
    "execution": {
     "iopub.execute_input": "2024-10-14T17:33:01.060144Z",
     "iopub.status.busy": "2024-10-14T17:33:01.059560Z",
     "iopub.status.idle": "2024-10-14T17:33:01.064809Z",
     "shell.execute_reply": "2024-10-14T17:33:01.063958Z"
    },
    "papermill": {
     "duration": 0.017923,
     "end_time": "2024-10-14T17:33:01.067664",
     "exception": false,
     "start_time": "2024-10-14T17:33:01.049741",
     "status": "completed"
    },
    "tags": []
   },
   "outputs": [
    {
     "name": "stdout",
     "output_type": "stream",
     "text": [
      "10\n",
      "1000\n"
     ]
    }
   ],
   "source": [
    "var2 = 1000\n",
    "\n",
    "def any_user_defined_function_1():\n",
    "    var2 = 10  # Variable with Local scope\n",
    "    print(var2)\n",
    "\n",
    "def any_user_defined_function_2():\n",
    "    print(var2)\n",
    "    \n",
    "any_user_defined_function_1()\n",
    "any_user_defined_function_2()"
   ]
  },
  {
   "cell_type": "code",
   "execution_count": 9,
   "id": "299dc5ba",
   "metadata": {
    "execution": {
     "iopub.execute_input": "2024-10-14T17:33:01.086994Z",
     "iopub.status.busy": "2024-10-14T17:33:01.086637Z",
     "iopub.status.idle": "2024-10-14T17:33:01.091889Z",
     "shell.execute_reply": "2024-10-14T17:33:01.090987Z"
    },
    "papermill": {
     "duration": 0.017377,
     "end_time": "2024-10-14T17:33:01.094020",
     "exception": false,
     "start_time": "2024-10-14T17:33:01.076643",
     "status": "completed"
    },
    "tags": []
   },
   "outputs": [
    {
     "name": "stdout",
     "output_type": "stream",
     "text": [
      "99\n",
      "1000\n"
     ]
    }
   ],
   "source": [
    "var1 = 1000 # Variable with Global scope.\n",
    "\n",
    "def any_user_defined_function():\n",
    "    var1 = 99  # Local scope\n",
    "    print(var1)\n",
    "\n",
    "any_user_defined_function()\n",
    "print(var1) # The original value of var1 (100) will be retained due to global scope"
   ]
  },
  {
   "cell_type": "code",
   "execution_count": 10,
   "id": "24cb95d6",
   "metadata": {
    "execution": {
     "iopub.execute_input": "2024-10-14T17:33:01.113421Z",
     "iopub.status.busy": "2024-10-14T17:33:01.113119Z",
     "iopub.status.idle": "2024-10-14T17:33:01.118735Z",
     "shell.execute_reply": "2024-10-14T17:33:01.117873Z"
    },
    "papermill": {
     "duration": 0.017823,
     "end_time": "2024-10-14T17:33:01.120932",
     "exception": false,
     "start_time": "2024-10-14T17:33:01.103109",
     "status": "completed"
    },
    "tags": []
   },
   "outputs": [
    {
     "name": "stdout",
     "output_type": "stream",
     "text": [
      "list1 before calling the function [11, 22, 33, 44, 55]\n",
      "list1 after calling the function [22, 33, 44, 55]\n"
     ]
    }
   ],
   "source": [
    "list1 = [11,22,33,44,55]\n",
    "\n",
    "def any_user_defined_function(list_inside_func):\n",
    "    # list_inside_func = [11,22,33,44,55]\n",
    "    del list_inside_func[0]\n",
    "\n",
    "print(f\"list1 before calling the function {list1}\") \n",
    "any_user_defined_function(list1)  # Pass by reference (Any change in the parameter within the function will be retained \n",
    "print(f\"list1 after calling the function {list1}\")"
   ]
  },
  {
   "cell_type": "code",
   "execution_count": 11,
   "id": "e06463e8",
   "metadata": {
    "execution": {
     "iopub.execute_input": "2024-10-14T17:33:01.140642Z",
     "iopub.status.busy": "2024-10-14T17:33:01.139866Z",
     "iopub.status.idle": "2024-10-14T17:33:01.145943Z",
     "shell.execute_reply": "2024-10-14T17:33:01.144952Z"
    },
    "papermill": {
     "duration": 0.018367,
     "end_time": "2024-10-14T17:33:01.148274",
     "exception": false,
     "start_time": "2024-10-14T17:33:01.129907",
     "status": "completed"
    },
    "tags": []
   },
   "outputs": [
    {
     "name": "stdout",
     "output_type": "stream",
     "text": [
      "138894484867264\n",
      "list1 before calling the function [11, 22, 33, 44, 55]\n",
      "138894484867264\n",
      "138894484864512\n",
      "list1 after calling the function [11, 22, 33, 44, 55]\n"
     ]
    }
   ],
   "source": [
    "list1 = [11,22,33,44,55]\n",
    "\n",
    "def any_user_defined_function(list_inside_func):\n",
    "    print(id(list_inside_func))\n",
    "    list_inside_func = [10,100,1000,10000] # link of 'list1' with previous object is broken  \n",
    "    print(id(list_inside_func))\n",
    "\n",
    "print(id(list1))\n",
    "print(f\"list1 before calling the function {list1}\") \n",
    "any_user_defined_function(list1)  # Pass by reference\n",
    "print(f\"list1 after calling the function {list1}\")"
   ]
  },
  {
   "cell_type": "code",
   "execution_count": 12,
   "id": "a484e722",
   "metadata": {
    "execution": {
     "iopub.execute_input": "2024-10-14T17:33:01.168338Z",
     "iopub.status.busy": "2024-10-14T17:33:01.168010Z",
     "iopub.status.idle": "2024-10-14T17:33:01.175264Z",
     "shell.execute_reply": "2024-10-14T17:33:01.174167Z"
    },
    "papermill": {
     "duration": 0.02008,
     "end_time": "2024-10-14T17:33:01.177414",
     "exception": false,
     "start_time": "2024-10-14T17:33:01.157334",
     "status": "completed"
    },
    "tags": []
   },
   "outputs": [
    {
     "data": {
      "text/plain": [
       "[2, 3]"
      ]
     },
     "execution_count": 12,
     "metadata": {},
     "output_type": "execute_result"
    }
   ],
   "source": [
    "list1 = [1,2,3]\n",
    "list22 = list1\n",
    "list22 = [2, 3]\n",
    "\n",
    "list22"
   ]
  },
  {
   "cell_type": "code",
   "execution_count": 13,
   "id": "f168ea54",
   "metadata": {
    "execution": {
     "iopub.execute_input": "2024-10-14T17:33:01.197572Z",
     "iopub.status.busy": "2024-10-14T17:33:01.196965Z",
     "iopub.status.idle": "2024-10-14T17:33:01.202893Z",
     "shell.execute_reply": "2024-10-14T17:33:01.201961Z"
    },
    "papermill": {
     "duration": 0.018344,
     "end_time": "2024-10-14T17:33:01.205056",
     "exception": false,
     "start_time": "2024-10-14T17:33:01.186712",
     "status": "completed"
    },
    "tags": []
   },
   "outputs": [
    {
     "name": "stdout",
     "output_type": "stream",
     "text": [
      "arguments received: (1, 2, 3, 4), sum is: 10\n",
      "arguments received: (1, 2, 3, 4, 5), sum is: 15\n",
      "arguments received: (1, 2, 3, 4, 5, 6), sum is: 21\n",
      "arguments received: (1, 2, 3, 4, 5, 6, 7), sum is: 28\n"
     ]
    }
   ],
   "source": [
    "def print_sum(*args):\n",
    "    print(f\"arguments received: {args}, sum is: {sum(args)}\")\n",
    "\n",
    "print_sum(1,2,3,4)  # *args will take dynamic argument list.\n",
    "print_sum(1,2,3,4,5)\n",
    "print_sum(1,2,3,4,5,6)\n",
    "print_sum(1,2,3,4,5,6,7)"
   ]
  },
  {
   "cell_type": "code",
   "execution_count": 14,
   "id": "00853548",
   "metadata": {
    "execution": {
     "iopub.execute_input": "2024-10-14T17:33:01.225397Z",
     "iopub.status.busy": "2024-10-14T17:33:01.224798Z",
     "iopub.status.idle": "2024-10-14T17:33:01.230966Z",
     "shell.execute_reply": "2024-10-14T17:33:01.229805Z"
    },
    "papermill": {
     "duration": 0.018818,
     "end_time": "2024-10-14T17:33:01.233194",
     "exception": false,
     "start_time": "2024-10-14T17:33:01.214376",
     "status": "completed"
    },
    "tags": []
   },
   "outputs": [
    {
     "name": "stdout",
     "output_type": "stream",
     "text": [
      "arguments received: (1, 2, 3, 4, 5, 6, 7), sum is: 28\n",
      "arguments received: (1, 2, 3, 4, 5, 6, 7), sum is: 28\n"
     ]
    }
   ],
   "source": [
    "list1 = [1,2,3,4,5,6,7] \n",
    "tuple1 = (1,2,3,4,5,6,7) \n",
    "\n",
    "print_sum(*list1)\n",
    "print_sum(*tuple1)"
   ]
  },
  {
   "cell_type": "code",
   "execution_count": 15,
   "id": "6bfdc8bd",
   "metadata": {
    "execution": {
     "iopub.execute_input": "2024-10-14T17:33:01.254606Z",
     "iopub.status.busy": "2024-10-14T17:33:01.254273Z",
     "iopub.status.idle": "2024-10-14T17:33:01.259896Z",
     "shell.execute_reply": "2024-10-14T17:33:01.258944Z"
    },
    "papermill": {
     "duration": 0.019288,
     "end_time": "2024-10-14T17:33:01.262441",
     "exception": false,
     "start_time": "2024-10-14T17:33:01.243153",
     "status": "completed"
    },
    "tags": []
   },
   "outputs": [
    {
     "name": "stdout",
     "output_type": "stream",
     "text": [
      "arguments received: (1, 2, 3, 4, 5, 6, 7, 1, 2, 3, 4, 5, 6, 7, 1, 2, 3, 4, 5, 6, 7, 1, 2, 3, 4, 5, 6, 7), sum is: 112\n"
     ]
    }
   ],
   "source": [
    "list1 = [1,2,3,4,5,6,7] \n",
    "list2 = [1,2,3,4,5,6,7]\n",
    "list3 = [1,2,3,4,5,6,7]\n",
    "list4 = [1,2,3,4,5,6,7]\n",
    "print_sum(*list1 , *list2 , *list3 , *list4 )"
   ]
  },
  {
   "cell_type": "code",
   "execution_count": 16,
   "id": "def623d5",
   "metadata": {
    "execution": {
     "iopub.execute_input": "2024-10-14T17:33:01.283113Z",
     "iopub.status.busy": "2024-10-14T17:33:01.282404Z",
     "iopub.status.idle": "2024-10-14T17:33:01.287826Z",
     "shell.execute_reply": "2024-10-14T17:33:01.286737Z"
    },
    "papermill": {
     "duration": 0.018133,
     "end_time": "2024-10-14T17:33:01.290092",
     "exception": false,
     "start_time": "2024-10-14T17:33:01.271959",
     "status": "completed"
    },
    "tags": []
   },
   "outputs": [
    {
     "name": "stdout",
     "output_type": "stream",
     "text": [
      "('Aman', 176381273912, 'India')\n"
     ]
    }
   ],
   "source": [
    "def UserDetails_args(*args):\n",
    "    print(args)\n",
    "\n",
    "UserDetails_args('Aman', 176381273912, 'India')"
   ]
  },
  {
   "cell_type": "code",
   "execution_count": 17,
   "id": "77456d54",
   "metadata": {
    "execution": {
     "iopub.execute_input": "2024-10-14T17:33:01.311964Z",
     "iopub.status.busy": "2024-10-14T17:33:01.310725Z",
     "iopub.status.idle": "2024-10-14T17:33:01.316805Z",
     "shell.execute_reply": "2024-10-14T17:33:01.315425Z"
    },
    "papermill": {
     "duration": 0.019271,
     "end_time": "2024-10-14T17:33:01.318886",
     "exception": false,
     "start_time": "2024-10-14T17:33:01.299615",
     "status": "completed"
    },
    "tags": []
   },
   "outputs": [
    {
     "name": "stdout",
     "output_type": "stream",
     "text": [
      "{'Country': 'India', 'Name': 'Aman', 'Pincode': 40010}\n"
     ]
    }
   ],
   "source": [
    "def UserDetails_kwargs(**kwargs):\n",
    "    print(kwargs)\n",
    "\n",
    "# Try below you will get an error\n",
    "# UserDetails_args(Name='Aman', Pincode=40010, Country= 'India')\n",
    "UserDetails_kwargs(Country='India', Name='Aman', Pincode=40010)"
   ]
  },
  {
   "cell_type": "code",
   "execution_count": 18,
   "id": "2a318911",
   "metadata": {
    "execution": {
     "iopub.execute_input": "2024-10-14T17:33:01.391762Z",
     "iopub.status.busy": "2024-10-14T17:33:01.391386Z",
     "iopub.status.idle": "2024-10-14T17:33:01.397505Z",
     "shell.execute_reply": "2024-10-14T17:33:01.396483Z"
    },
    "papermill": {
     "duration": 0.071435,
     "end_time": "2024-10-14T17:33:01.400159",
     "exception": false,
     "start_time": "2024-10-14T17:33:01.328724",
     "status": "completed"
    },
    "tags": []
   },
   "outputs": [
    {
     "name": "stdout",
     "output_type": "stream",
     "text": [
      "pos_argument is 12\n",
      "args are (14, 'Test')\n",
      "named_arg is MyNamedArg\n",
      "kwargs are {'Name': 'Aman', 'Pincode': 40010, 'Country': 'India'}\n"
     ]
    }
   ],
   "source": [
    "def UserDetails_args_kwargs(pos_argument, *args, named_arg=[1,2], **kwargs):\n",
    "    print(f\"pos_argument is {pos_argument}\")\n",
    "    print(f\"args are {args}\")\n",
    "    print(f\"named_arg is {named_arg}\")\n",
    "    print(f\"kwargs are {kwargs}\")\n",
    "\n",
    "UserDetails_args_kwargs(12, 14, 'Test', named_arg='MyNamedArg', Name='Aman', Pincode=40010, Country='India')"
   ]
  },
  {
   "cell_type": "code",
   "execution_count": 19,
   "id": "bf6cd5d8",
   "metadata": {
    "execution": {
     "iopub.execute_input": "2024-10-14T17:33:01.422437Z",
     "iopub.status.busy": "2024-10-14T17:33:01.421659Z",
     "iopub.status.idle": "2024-10-14T17:33:01.427349Z",
     "shell.execute_reply": "2024-10-14T17:33:01.426412Z"
    },
    "papermill": {
     "duration": 0.019239,
     "end_time": "2024-10-14T17:33:01.429588",
     "exception": false,
     "start_time": "2024-10-14T17:33:01.410349",
     "status": "completed"
    },
    "tags": []
   },
   "outputs": [
    {
     "name": "stdout",
     "output_type": "stream",
     "text": [
      "87yudyf68 ('Aman',) NotProvided {'Country': 'India'}\n"
     ]
    }
   ],
   "source": [
    "def UserDetails(licenseNo,  *args , phoneNo=0 , **kwargs): # Using all four argum    \n",
    "    print(licenseNo, args, phoneNo, kwargs)\n",
    "\n",
    "UserDetails('87yudyf68', 'Aman', phoneNo='NotProvided', Country='India')"
   ]
  },
  {
   "cell_type": "code",
   "execution_count": 20,
   "id": "ff9a1fec",
   "metadata": {
    "execution": {
     "iopub.execute_input": "2024-10-14T17:33:01.450925Z",
     "iopub.status.busy": "2024-10-14T17:33:01.450507Z",
     "iopub.status.idle": "2024-10-14T17:33:01.457213Z",
     "shell.execute_reply": "2024-10-14T17:33:01.456264Z"
    },
    "papermill": {
     "duration": 0.019841,
     "end_time": "2024-10-14T17:33:01.459323",
     "exception": false,
     "start_time": "2024-10-14T17:33:01.439482",
     "status": "completed"
    },
    "tags": []
   },
   "outputs": [
    {
     "data": {
      "text/plain": [
       "'Hello, Aman!'"
      ]
     },
     "execution_count": 20,
     "metadata": {},
     "output_type": "execute_result"
    }
   ],
   "source": [
    "def greet(name, city, greeting=\"Hello\"):\n",
    "    return f\"{greeting}, {name}!\"\n",
    "\n",
    "greet(city='Pune', name=\"Aman\")"
   ]
  },
  {
   "cell_type": "code",
   "execution_count": 21,
   "id": "d287be18",
   "metadata": {
    "execution": {
     "iopub.execute_input": "2024-10-14T17:33:01.481483Z",
     "iopub.status.busy": "2024-10-14T17:33:01.480827Z",
     "iopub.status.idle": "2024-10-14T17:33:01.486114Z",
     "shell.execute_reply": "2024-10-14T17:33:01.485138Z"
    },
    "papermill": {
     "duration": 0.018655,
     "end_time": "2024-10-14T17:33:01.488383",
     "exception": false,
     "start_time": "2024-10-14T17:33:01.469728",
     "status": "completed"
    },
    "tags": []
   },
   "outputs": [
    {
     "name": "stdout",
     "output_type": "stream",
     "text": [
      "80\n"
     ]
    }
   ],
   "source": [
    "addition = lambda a: a + 10  # This lambda function adds value 10 to an argument \n",
    "\n",
    "print(addition(70))"
   ]
  },
  {
   "cell_type": "code",
   "execution_count": 22,
   "id": "9c546679",
   "metadata": {
    "execution": {
     "iopub.execute_input": "2024-10-14T17:33:01.510079Z",
     "iopub.status.busy": "2024-10-14T17:33:01.509697Z",
     "iopub.status.idle": "2024-10-14T17:33:01.514783Z",
     "shell.execute_reply": "2024-10-14T17:33:01.513870Z"
    },
    "papermill": {
     "duration": 0.018257,
     "end_time": "2024-10-14T17:33:01.516791",
     "exception": false,
     "start_time": "2024-10-14T17:33:01.498534",
     "status": "completed"
    },
    "tags": []
   },
   "outputs": [
    {
     "name": "stdout",
     "output_type": "stream",
     "text": [
      "30\n"
     ]
    }
   ],
   "source": [
    "product = lambda a, b: a * b #This lambda function takes two arguments (a,b)\n",
    "print(product(5, 6))"
   ]
  },
  {
   "cell_type": "code",
   "execution_count": 23,
   "id": "5c6201f2",
   "metadata": {
    "execution": {
     "iopub.execute_input": "2024-10-14T17:33:01.539391Z",
     "iopub.status.busy": "2024-10-14T17:33:01.538441Z",
     "iopub.status.idle": "2024-10-14T17:33:01.544058Z",
     "shell.execute_reply": "2024-10-14T17:33:01.543144Z"
    },
    "papermill": {
     "duration": 0.019567,
     "end_time": "2024-10-14T17:33:01.546391",
     "exception": false,
     "start_time": "2024-10-14T17:33:01.526824",
     "status": "completed"
    },
    "tags": []
   },
   "outputs": [
    {
     "name": "stdout",
     "output_type": "stream",
     "text": [
      "13\n"
     ]
    }
   ],
   "source": [
    "addition = lambda a, b, c: a + b + c  #This lambda function takes three argument \n",
    "print(addition(5, 6, 2))"
   ]
  },
  {
   "cell_type": "code",
   "execution_count": 24,
   "id": "e8484af5",
   "metadata": {
    "execution": {
     "iopub.execute_input": "2024-10-14T17:33:01.569020Z",
     "iopub.status.busy": "2024-10-14T17:33:01.567944Z",
     "iopub.status.idle": "2024-10-14T17:33:01.575199Z",
     "shell.execute_reply": "2024-10-14T17:33:01.574139Z"
    },
    "papermill": {
     "duration": 0.020806,
     "end_time": "2024-10-14T17:33:01.577414",
     "exception": false,
     "start_time": "2024-10-14T17:33:01.556608",
     "status": "completed"
    },
    "tags": []
   },
   "outputs": [
    {
     "data": {
      "text/plain": [
       "(30, 100, 280)"
      ]
     },
     "execution_count": 24,
     "metadata": {},
     "output_type": "execute_result"
    }
   ],
   "source": [
    "res = lambda *args: sum(args)  # This lambda function can take any number of argumentd\n",
    "\n",
    "res(10,20), res(10,20,30,40), res(10,20,30,40,50,60,70)"
   ]
  },
  {
   "cell_type": "code",
   "execution_count": 25,
   "id": "3a44c9e5",
   "metadata": {
    "execution": {
     "iopub.execute_input": "2024-10-14T17:33:01.599932Z",
     "iopub.status.busy": "2024-10-14T17:33:01.599565Z",
     "iopub.status.idle": "2024-10-14T17:33:01.606352Z",
     "shell.execute_reply": "2024-10-14T17:33:01.605437Z"
    },
    "papermill": {
     "duration": 0.020377,
     "end_time": "2024-10-14T17:33:01.608393",
     "exception": false,
     "start_time": "2024-10-14T17:33:01.588016",
     "status": "completed"
    },
    "tags": []
   },
   "outputs": [
    {
     "data": {
      "text/plain": [
       "150"
      ]
     },
     "execution_count": 25,
     "metadata": {},
     "output_type": "execute_result"
    }
   ],
   "source": [
    "res1 = (lambda **kwargs: sum(kwargs.values())) # This lambda function can take an res1(a=10,b=20,c=30), \n",
    "res1(a=10, b=20, c=30, d=40, e=50)"
   ]
  },
  {
   "cell_type": "code",
   "execution_count": 26,
   "id": "f412fbb0",
   "metadata": {
    "execution": {
     "iopub.execute_input": "2024-10-14T17:33:01.630762Z",
     "iopub.status.busy": "2024-10-14T17:33:01.630423Z",
     "iopub.status.idle": "2024-10-14T17:33:01.636425Z",
     "shell.execute_reply": "2024-10-14T17:33:01.635250Z"
    },
    "papermill": {
     "duration": 0.019798,
     "end_time": "2024-10-14T17:33:01.638678",
     "exception": false,
     "start_time": "2024-10-14T17:33:01.618880",
     "status": "completed"
    },
    "tags": []
   },
   "outputs": [
    {
     "name": "stdout",
     "output_type": "stream",
     "text": [
      "(1, 2)\n"
     ]
    }
   ],
   "source": [
    "def user_define_fun_any_parameters(*args):\n",
    "    print(args)\n",
    "    \n",
    "user_define_fun_any_parameters(1, 2)"
   ]
  },
  {
   "cell_type": "code",
   "execution_count": 27,
   "id": "e351e9cd",
   "metadata": {
    "execution": {
     "iopub.execute_input": "2024-10-14T17:33:01.662345Z",
     "iopub.status.busy": "2024-10-14T17:33:01.661461Z",
     "iopub.status.idle": "2024-10-14T17:33:01.667605Z",
     "shell.execute_reply": "2024-10-14T17:33:01.666640Z"
    },
    "papermill": {
     "duration": 0.020192,
     "end_time": "2024-10-14T17:33:01.669701",
     "exception": false,
     "start_time": "2024-10-14T17:33:01.649509",
     "status": "completed"
    },
    "tags": []
   },
   "outputs": [
    {
     "name": "stdout",
     "output_type": "stream",
     "text": [
      "2\n",
      "1\n",
      "3\n"
     ]
    }
   ],
   "source": [
    "# Functions are first class citizens in python. They can be passed to a function as varible!\n",
    "def user_define_fun_any_parameters(fun_name, *args):\n",
    "    print(fun_name(args))\n",
    "    \n",
    "user_define_fun_any_parameters(max, 1, 2)\n",
    "user_define_fun_any_parameters(min, 1, 2)\n",
    "user_define_fun_any_parameters(sum, 1, 2)"
   ]
  },
  {
   "cell_type": "code",
   "execution_count": 28,
   "id": "2078448a",
   "metadata": {
    "execution": {
     "iopub.execute_input": "2024-10-14T17:33:01.692821Z",
     "iopub.status.busy": "2024-10-14T17:33:01.692137Z",
     "iopub.status.idle": "2024-10-14T17:33:01.702271Z",
     "shell.execute_reply": "2024-10-14T17:33:01.701401Z"
    },
    "papermill": {
     "duration": 0.023766,
     "end_time": "2024-10-14T17:33:01.704235",
     "exception": false,
     "start_time": "2024-10-14T17:33:01.680469",
     "status": "completed"
    },
    "tags": []
   },
   "outputs": [
    {
     "data": {
      "text/plain": [
       "[1, 3, 5, 7, 9]"
      ]
     },
     "execution_count": 28,
     "metadata": {},
     "output_type": "execute_result"
    }
   ],
   "source": [
    "list1 = [1,2,3,4,5,6,7,8,9]\n",
    "\n",
    "def odd(num):\n",
    "    if num % 2 == 1:\n",
    "        return True\n",
    "    return False    \n",
    "\n",
    "list(filter(odd, list1)) # This Filter function filters list1 and passes odd_num"
   ]
  },
  {
   "cell_type": "code",
   "execution_count": 29,
   "id": "22029e72",
   "metadata": {
    "execution": {
     "iopub.execute_input": "2024-10-14T17:33:01.726600Z",
     "iopub.status.busy": "2024-10-14T17:33:01.726302Z",
     "iopub.status.idle": "2024-10-14T17:33:01.733141Z",
     "shell.execute_reply": "2024-10-14T17:33:01.732164Z"
    },
    "papermill": {
     "duration": 0.020322,
     "end_time": "2024-10-14T17:33:01.735212",
     "exception": false,
     "start_time": "2024-10-14T17:33:01.714890",
     "status": "completed"
    },
    "tags": []
   },
   "outputs": [
    {
     "data": {
      "text/plain": [
       "['Aman', 'Ayush', 'Abhishek', 'Nikita']"
      ]
     },
     "execution_count": 29,
     "metadata": {},
     "output_type": "execute_result"
    }
   ],
   "source": [
    "list1 = ['Aman', 'Ayush', 'Rohini', 'Abhishek', 'Om', 'Nikita']\n",
    "\n",
    "def contains_a(name):\n",
    "    return 'a' in name.lower()\n",
    "\n",
    "odd_num = list(filter(contains_a, list1)) # This Filter function filters list1 and passes odd_num\n",
    "odd_num"
   ]
  },
  {
   "cell_type": "code",
   "execution_count": 30,
   "id": "e9d14971",
   "metadata": {
    "execution": {
     "iopub.execute_input": "2024-10-14T17:33:01.758348Z",
     "iopub.status.busy": "2024-10-14T17:33:01.758022Z",
     "iopub.status.idle": "2024-10-14T17:33:01.764707Z",
     "shell.execute_reply": "2024-10-14T17:33:01.763854Z"
    },
    "papermill": {
     "duration": 0.020765,
     "end_time": "2024-10-14T17:33:01.766838",
     "exception": false,
     "start_time": "2024-10-14T17:33:01.746073",
     "status": "completed"
    },
    "tags": []
   },
   "outputs": [
    {
     "data": {
      "text/plain": [
       "[1, 3, 5, 7, 9]"
      ]
     },
     "execution_count": 30,
     "metadata": {},
     "output_type": "execute_result"
    }
   ],
   "source": [
    "list1 = [1,2,3,4,5,6,7,8,9] # The below Filter function filters \"list1\" and passes all odd numbers using lambda \n",
    "odd_num = list(filter(lambda n: n%2==1, list1))\n",
    "odd_num"
   ]
  },
  {
   "cell_type": "code",
   "execution_count": 31,
   "id": "dcdaf0c1",
   "metadata": {
    "execution": {
     "iopub.execute_input": "2024-10-14T17:33:01.789349Z",
     "iopub.status.busy": "2024-10-14T17:33:01.789039Z",
     "iopub.status.idle": "2024-10-14T17:33:01.795185Z",
     "shell.execute_reply": "2024-10-14T17:33:01.794253Z"
    },
    "papermill": {
     "duration": 0.019781,
     "end_time": "2024-10-14T17:33:01.797296",
     "exception": false,
     "start_time": "2024-10-14T17:33:01.777515",
     "status": "completed"
    },
    "tags": []
   },
   "outputs": [
    {
     "data": {
      "text/plain": [
       "[2, 6, 10, 14, 18]"
      ]
     },
     "execution_count": 31,
     "metadata": {},
     "output_type": "execute_result"
    }
   ],
   "source": [
    "odd_num\n",
    "def twice(n):\n",
    "    return n*2\n",
    "\n",
    "doubles = list(map(twice, odd_num)) # The map function will apply user defined function twice \n",
    "doubles"
   ]
  },
  {
   "cell_type": "code",
   "execution_count": 32,
   "id": "cf76af5a",
   "metadata": {
    "execution": {
     "iopub.execute_input": "2024-10-14T17:33:01.820011Z",
     "iopub.status.busy": "2024-10-14T17:33:01.819691Z",
     "iopub.status.idle": "2024-10-14T17:33:01.825566Z",
     "shell.execute_reply": "2024-10-14T17:33:01.824688Z"
    },
    "papermill": {
     "duration": 0.019523,
     "end_time": "2024-10-14T17:33:01.827594",
     "exception": false,
     "start_time": "2024-10-14T17:33:01.808071",
     "status": "completed"
    },
    "tags": []
   },
   "outputs": [
    {
     "data": {
      "text/plain": [
       "[2, 6, 10, 14, 18]"
      ]
     },
     "execution_count": 32,
     "metadata": {},
     "output_type": "execute_result"
    }
   ],
   "source": [
    "doubles = list(map(lambda n: n*2, odd_num)) # This map function will double \n",
    "doubles"
   ]
  },
  {
   "cell_type": "code",
   "execution_count": 33,
   "id": "f1f1b39b",
   "metadata": {
    "execution": {
     "iopub.execute_input": "2024-10-14T17:33:01.850540Z",
     "iopub.status.busy": "2024-10-14T17:33:01.850260Z",
     "iopub.status.idle": "2024-10-14T17:33:01.856621Z",
     "shell.execute_reply": "2024-10-14T17:33:01.855758Z"
    },
    "papermill": {
     "duration": 0.020181,
     "end_time": "2024-10-14T17:33:01.858708",
     "exception": false,
     "start_time": "2024-10-14T17:33:01.838527",
     "status": "completed"
    },
    "tags": []
   },
   "outputs": [
    {
     "data": {
      "text/plain": [
       "50"
      ]
     },
     "execution_count": 33,
     "metadata": {},
     "output_type": "execute_result"
    }
   ],
   "source": [
    "from functools import reduce \n",
    "\n",
    "def add(a,b):\n",
    "    # print(a, b)\n",
    "    return a+b\n",
    "\n",
    "sum_all = reduce(add, doubles) # This reduce function will perform sum of all item \n",
    "sum_all"
   ]
  },
  {
   "cell_type": "code",
   "execution_count": 34,
   "id": "497641e8",
   "metadata": {
    "execution": {
     "iopub.execute_input": "2024-10-14T17:33:01.882689Z",
     "iopub.status.busy": "2024-10-14T17:33:01.882152Z",
     "iopub.status.idle": "2024-10-14T17:33:01.887763Z",
     "shell.execute_reply": "2024-10-14T17:33:01.886885Z"
    },
    "papermill": {
     "duration": 0.019699,
     "end_time": "2024-10-14T17:33:01.889870",
     "exception": false,
     "start_time": "2024-10-14T17:33:01.870171",
     "status": "completed"
    },
    "tags": []
   },
   "outputs": [
    {
     "data": {
      "text/plain": [
       "50"
      ]
     },
     "execution_count": 34,
     "metadata": {},
     "output_type": "execute_result"
    }
   ],
   "source": [
    "sum(doubles)"
   ]
  },
  {
   "cell_type": "code",
   "execution_count": 35,
   "id": "91196b77",
   "metadata": {
    "execution": {
     "iopub.execute_input": "2024-10-14T17:33:01.913260Z",
     "iopub.status.busy": "2024-10-14T17:33:01.912950Z",
     "iopub.status.idle": "2024-10-14T17:33:01.918985Z",
     "shell.execute_reply": "2024-10-14T17:33:01.917982Z"
    },
    "papermill": {
     "duration": 0.02005,
     "end_time": "2024-10-14T17:33:01.920993",
     "exception": false,
     "start_time": "2024-10-14T17:33:01.900943",
     "status": "completed"
    },
    "tags": []
   },
   "outputs": [
    {
     "data": {
      "text/plain": [
       "50"
      ]
     },
     "execution_count": 35,
     "metadata": {},
     "output_type": "execute_result"
    }
   ],
   "source": [
    "#The below reduce() function will perform sum of all items in the list using lambda \n",
    "sum_all = reduce(lambda a,b: a+b, doubles) \n",
    "sum_all"
   ]
  },
  {
   "cell_type": "code",
   "execution_count": 36,
   "id": "df802f21",
   "metadata": {
    "execution": {
     "iopub.execute_input": "2024-10-14T17:33:01.944934Z",
     "iopub.status.busy": "2024-10-14T17:33:01.944573Z",
     "iopub.status.idle": "2024-10-14T17:33:01.951755Z",
     "shell.execute_reply": "2024-10-14T17:33:01.950601Z"
    },
    "papermill": {
     "duration": 0.021661,
     "end_time": "2024-10-14T17:33:01.953859",
     "exception": false,
     "start_time": "2024-10-14T17:33:01.932198",
     "status": "completed"
    },
    "tags": []
   },
   "outputs": [
    {
     "data": {
      "text/plain": [
       "50"
      ]
     },
     "execution_count": 36,
     "metadata": {},
     "output_type": "execute_result"
    }
   ],
   "source": [
    "# Putting all together\n",
    "sum_all = reduce(lambda a,b : a+b, list(map(lambda n:n*2, list(filter(lambda n: n%2 == 1, list1)))))\n",
    "sum_all"
   ]
  },
  {
   "cell_type": "code",
   "execution_count": 37,
   "id": "4346862f",
   "metadata": {
    "execution": {
     "iopub.execute_input": "2024-10-14T17:33:01.978976Z",
     "iopub.status.busy": "2024-10-14T17:33:01.978591Z",
     "iopub.status.idle": "2024-10-14T17:33:01.987419Z",
     "shell.execute_reply": "2024-10-14T17:33:01.986548Z"
    },
    "papermill": {
     "duration": 0.024245,
     "end_time": "2024-10-14T17:33:01.989723",
     "exception": false,
     "start_time": "2024-10-14T17:33:01.965478",
     "status": "completed"
    },
    "tags": []
   },
   "outputs": [
    {
     "name": "stdout",
     "output_type": "stream",
     "text": [
      "--------\n",
      "[2, 4, 6, 8, 10]\n",
      "[1, 3, 5, 7, 9]\n",
      "--------\n",
      "['TWO', 'FOUR']\n",
      "['one', 'three']\n",
      "--------\n",
      "['one']\n",
      "['88', '99', '102']\n",
      "['one', 'two2', 'three3', '88', '99', '102']\n",
      "--------\n"
     ]
    }
   ],
   "source": [
    "list1 = [1,2,3,4,5,6,7,8,9,10]\n",
    "even = list(filter(lambda n: n%2 == 0 ,list1)) # Filter even numbers from the list \n",
    "odd = list(filter(lambda n: n%2 != 0 ,list1)) # Filter odd numbers from the list \n",
    "print('--------') \n",
    "print(even) \n",
    "print(odd) \n",
    "print('--------') \n",
    "list2 = ['one' , 'TWO' , 'three' , 'FOUR'] \n",
    "upper = list(filter(lambda x: x.isupper() , list2))\n",
    "lower = list(filter(lambda x: x.islower() , list2))  \n",
    "print(upper) \n",
    "print(lower) \n",
    "print('--------') \n",
    "list3 = ['one' , 'two2' , 'three3' ,'88' , '99' , '102'] \n",
    "numeric = list(filter(lambda x: x.isnumeric(), list3))  \n",
    "alpha = list(filter(lambda x: x.isalpha(), list3))\n",
    "alphanum = list(filter(lambda x: x.isalnum(), list3))   \n",
    "print(alpha) \n",
    "print(numeric) \n",
    "print(alphanum) \n",
    "print('--------')\n"
   ]
  },
  {
   "cell_type": "code",
   "execution_count": 38,
   "id": "ef7009c8",
   "metadata": {
    "execution": {
     "iopub.execute_input": "2024-10-14T17:33:02.014541Z",
     "iopub.status.busy": "2024-10-14T17:33:02.014151Z",
     "iopub.status.idle": "2024-10-14T17:33:02.022133Z",
     "shell.execute_reply": "2024-10-14T17:33:02.021179Z"
    },
    "papermill": {
     "duration": 0.022949,
     "end_time": "2024-10-14T17:33:02.024254",
     "exception": false,
     "start_time": "2024-10-14T17:33:02.001305",
     "status": "completed"
    },
    "tags": []
   },
   "outputs": [
    {
     "name": "stdout",
     "output_type": "stream",
     "text": [
      "---------------\n",
      "[2, 4, 6, 8]\n",
      "[6, 8, 10, 12]\n",
      "[1, 4, 9, 16]\n",
      "---------------\n",
      "[2, 4, 6, 8]\n",
      "[6, 8, 10, 12]\n",
      "[1, 4, 9, 16]\n",
      "---------------\n"
     ]
    }
   ],
   "source": [
    "list1 = [1,2,3,4] \n",
    "list2 = [5,6,7,8] \n",
    "\n",
    "def double(x):    \n",
    "    return x + x \n",
    "\n",
    "def add(x, y):    \n",
    "    return x + y \n",
    "\n",
    "def square(x):\n",
    "    return x * x \n",
    "\n",
    "print('---------------')\n",
    "print(list(map(double, list1)))\n",
    "print(list(map(add, list1, list2)))\n",
    "print(list(map(square, list1)))\n",
    "print('---------------') \n",
    "print(list(map(lambda x: x + x, list1)))\n",
    "print(list(map(lambda x, y: x + y, list1, list2)))\n",
    "print(list(map(lambda x: x * x, list1)))\n",
    "print('---------------')"
   ]
  },
  {
   "cell_type": "code",
   "execution_count": 39,
   "id": "4e1f0d5c",
   "metadata": {
    "execution": {
     "iopub.execute_input": "2024-10-14T17:33:02.049492Z",
     "iopub.status.busy": "2024-10-14T17:33:02.049125Z",
     "iopub.status.idle": "2024-10-14T17:33:02.056285Z",
     "shell.execute_reply": "2024-10-14T17:33:02.055227Z"
    },
    "papermill": {
     "duration": 0.022643,
     "end_time": "2024-10-14T17:33:02.058757",
     "exception": false,
     "start_time": "2024-10-14T17:33:02.036114",
     "status": "completed"
    },
    "tags": []
   },
   "outputs": [
    {
     "name": "stdout",
     "output_type": "stream",
     "text": [
      "24\n",
      "10\n",
      "Python Rocks\n",
      "Hello Hello Hello \n",
      "1\n",
      "4\n"
     ]
    }
   ],
   "source": [
    "import operator \n",
    "\n",
    "list2 = [1, 2, 3, 4] \n",
    "\n",
    "product = reduce(operator.mul, list2) \n",
    "add = reduce(operator.add, list2) \n",
    "concat_str = reduce(operator.add, ['Python' , ' ' , 'Rocks'])\n",
    "prod = reduce(operator.mul, ['Hello ', 3])\n",
    "min_num = reduce(lambda a, b: a if a < b else b, list2)\n",
    "max_num = reduce(lambda a, b: a if a > b else b, list2)\n",
    "print(product) \n",
    "print(add) \n",
    "print(concat_str) \n",
    "print(prod) \n",
    "print(min_num) \n",
    "print(max_num)"
   ]
  },
  {
   "cell_type": "code",
   "execution_count": 40,
   "id": "dc35656b",
   "metadata": {
    "execution": {
     "iopub.execute_input": "2024-10-14T17:33:02.084481Z",
     "iopub.status.busy": "2024-10-14T17:33:02.083617Z",
     "iopub.status.idle": "2024-10-14T17:33:02.091213Z",
     "shell.execute_reply": "2024-10-14T17:33:02.090253Z"
    },
    "papermill": {
     "duration": 0.022747,
     "end_time": "2024-10-14T17:33:02.093340",
     "exception": false,
     "start_time": "2024-10-14T17:33:02.070593",
     "status": "completed"
    },
    "tags": []
   },
   "outputs": [
    {
     "data": {
      "text/plain": [
       "(1, 4)"
      ]
     },
     "execution_count": 40,
     "metadata": {},
     "output_type": "execute_result"
    }
   ],
   "source": [
    "def min_func(a, b):        \n",
    "    return a if a < b else b  \n",
    "\n",
    "def max_func(a, b):    \n",
    "    return a if a > b else b \n",
    "\n",
    "min_num = reduce(min_func, list2)\n",
    "max_num = reduce(max_func, list2)\n",
    "min_num , max_num"
   ]
  },
  {
   "cell_type": "code",
   "execution_count": 41,
   "id": "4be8e944",
   "metadata": {
    "execution": {
     "iopub.execute_input": "2024-10-14T17:33:02.118595Z",
     "iopub.status.busy": "2024-10-14T17:33:02.118024Z",
     "iopub.status.idle": "2024-10-14T17:33:02.125805Z",
     "shell.execute_reply": "2024-10-14T17:33:02.124753Z"
    },
    "papermill": {
     "duration": 0.022689,
     "end_time": "2024-10-14T17:33:02.127871",
     "exception": false,
     "start_time": "2024-10-14T17:33:02.105182",
     "status": "completed"
    },
    "tags": []
   },
   "outputs": [
    {
     "name": "stdout",
     "output_type": "stream",
     "text": [
      "------\n",
      "False\n",
      "True\n",
      "False\n",
      "------\n",
      "False\n",
      "True\n",
      "True\n",
      "------\n"
     ]
    }
   ],
   "source": [
    "print('------') \n",
    "print(reduce(lambda a, b: bool(a and b), [0, 0, 1, 0, 0]))\n",
    "print(reduce(lambda a, b: bool(a and b), [2, 3, 1, 5, 6]))\n",
    "print(reduce(lambda a, b: bool(a and b), [8, 9, 1, 0, 9]))\n",
    "print('------') \n",
    "print(reduce(lambda a, b: bool(a or b), [0, 0, 0, 0, 0])) \n",
    "print(reduce(lambda a, b: bool(a or b), [2, 3, 1, 5, 6])) \n",
    "print(reduce(lambda a, b: bool(a or b), [8, 9, 1, 0, 9]))  \n",
    "print('------')"
   ]
  }
 ],
 "metadata": {
  "kaggle": {
   "accelerator": "none",
   "dataSources": [],
   "dockerImageVersionId": 30615,
   "isGpuEnabled": false,
   "isInternetEnabled": true,
   "language": "python",
   "sourceType": "notebook"
  },
  "kernelspec": {
   "display_name": "Python 3",
   "language": "python",
   "name": "python3"
  },
  "language_info": {
   "codemirror_mode": {
    "name": "ipython",
    "version": 3
   },
   "file_extension": ".py",
   "mimetype": "text/x-python",
   "name": "python",
   "nbconvert_exporter": "python",
   "pygments_lexer": "ipython3",
   "version": "3.10.12"
  },
  "papermill": {
   "default_parameters": {},
   "duration": 5.25741,
   "end_time": "2024-10-14T17:33:02.458460",
   "environment_variables": {},
   "exception": null,
   "input_path": "__notebook__.ipynb",
   "output_path": "__notebook__.ipynb",
   "parameters": {},
   "start_time": "2024-10-14T17:32:57.201050",
   "version": "2.4.0"
  }
 },
 "nbformat": 4,
 "nbformat_minor": 5
}
